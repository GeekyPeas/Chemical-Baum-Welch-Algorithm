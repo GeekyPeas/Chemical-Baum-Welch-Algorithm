{
 "cells": [
  {
   "cell_type": "code",
   "execution_count": 7,
   "metadata": {},
   "outputs": [],
   "source": [
    "import os,sys\n",
    "import numpy as np\n",
    "from CRN_Engines.DMAK_CPU import DMAK_CPU as DMAK\n",
    "from HMM.Model_to_CRN import translate_model as translate\n",
    "from HMM.BaumWelch_inbuilt import BaumWelch_inbuilt as BW\n",
    "from HMM.BaumWelch_inbuilt import read_model"
   ]
  },
  {
   "cell_type": "markdown",
   "metadata": {},
   "source": [
    "# Example-1a"
   ]
  },
  {
   "cell_type": "code",
   "execution_count": 8,
   "metadata": {},
   "outputs": [],
   "source": [
    "model_file = \"../Models/Example-1a.txt\""
   ]
  },
  {
   "cell_type": "markdown",
   "metadata": {},
   "source": [
    "### Baum-Welch"
   ]
  },
  {
   "cell_type": "code",
   "execution_count": 9,
   "metadata": {},
   "outputs": [
    {
     "name": "stdout",
     "output_type": "stream",
     "text": [
      "Observation_sequence:\n",
      " ['2', '1', '2', '2', '1', '2', '2', '1', '2', '1', '1', '1', '2', '1', '1', '1', '2', '1', '1', '2', '2', '2', '2', '1', '1', '2', '2', '1', '1', '1', '2', '1', '2', '2', '2', '2', '1', '1', '1', '2', '2', '2', '1', '2', '1', '2', '1', '1', '2', '2', '2', '2', '1', '1', '1', '1', '2', '1', '2', '1', '2', '1', '1', '1', '1', '1', '1', '2', '1', '2', '2', '1', '2', '1', '2', '1', '2', '1', '2', '1', '2', '1', '1', '2', '2', '2', '2', '1', '2', '2', '1', '1', '1', '1', '1', '1', '2', '2', '2', '1'] \n",
      "\n",
      "Start_probability:\n",
      " [0.5 0.5] \n",
      "\n",
      "Transition_Probability:\n",
      " [[0.5 0.5]\n",
      " [0.5 0.5]] \n",
      "\n",
      "Emission_Probability:\n",
      " [[0.5 0.5]\n",
      " [0.5 0.5]] \n",
      "\n",
      "==================================\n",
      "\n",
      "After Training with Baum-Welch algorithm:\n",
      "Start probability:\n",
      " [0.5 0.5] \n",
      "\n",
      "Transition probability:\n",
      " [[0.5 0.5]\n",
      " [0.5 0.5]] \n",
      "\n",
      "Emission probability:\n",
      " [[0.52 0.48]\n",
      " [0.52 0.48]] \n",
      "\n"
     ]
    }
   ],
   "source": [
    "BW(model_file)"
   ]
  },
  {
   "cell_type": "markdown",
   "metadata": {},
   "source": [
    "### Chemical-Baum-Welch"
   ]
  },
  {
   "cell_type": "code",
   "execution_count": 10,
   "metadata": {},
   "outputs": [],
   "source": [
    "# generating reaction network\n",
    "observations, reaction_system = translate(model_file,False,False)\n",
    "species = np.array(reaction_system[0])\n",
    "reactants = np.array(reaction_system[1][0])\n",
    "products = np.array(reaction_system[1][1])\n",
    "rates = np.array(reaction_system[1][2])\n",
    "initial = np.array(reaction_system[2])"
   ]
  },
  {
   "cell_type": "code",
   "execution_count": 11,
   "metadata": {},
   "outputs": [],
   "source": [
    "# simulation parameters\n",
    "duration = 5\n",
    "num_step = 1000"
   ]
  },
  {
   "cell_type": "code",
   "execution_count": 12,
   "metadata": {},
   "outputs": [],
   "source": [
    "# simulating\n",
    "output = DMAK(reactants,products,rates,initial,duration,num_step,True,False,species)\n",
    "\n",
    "# saving simulation results\n",
    "output_file = model_file.split('.')[2][1:]+'_output.npy'\n",
    "with open(output_file, 'wb') as f:\n",
    "    np.save(output_file,output)"
   ]
  },
  {
   "cell_type": "code",
   "execution_count": 13,
   "metadata": {},
   "outputs": [],
   "source": [
    "# load from saved simulation results\n",
    "output_file = model_file.split('.')[2][1:]+'_output.npy'\n",
    "output = np.load(output_file)"
   ]
  },
  {
   "cell_type": "code",
   "execution_count": 14,
   "metadata": {},
   "outputs": [],
   "source": [
    "# define masks for only parameter species\n",
    "theta_mask=np.flatnonzero(np.core.defchararray.find(species,\"theta\")!=-1)\n",
    "theta_star_index=np.flatnonzero(np.core.defchararray.find(species[theta_mask],\"*\")!=-1)\n",
    "unselect = np.in1d(range(theta_mask.shape[0]), theta_star_index)\n",
    "start_mask=theta_mask[unselect]\n",
    "theta_mask=theta_mask[~unselect]\n",
    "psi_mask=np.flatnonzero(np.core.defchararray.find(species,\"psi\")!=-1)\n",
    "parameter_mask=np.concatenate([theta_mask,psi_mask])"
   ]
  },
  {
   "cell_type": "code",
   "execution_count": 15,
   "metadata": {},
   "outputs": [
    {
     "data": {
      "image/png": "[encoded data removed]",
      "text/plain": [
       "<Figure size 1080x720 with 1 Axes>"
      ]
     },
     "metadata": {
      "needs_background": "light"
     },
     "output_type": "display_data"
    }
   ],
   "source": [
    "# set plot parameters\n",
    "import matplotlib.pyplot as plt\n",
    "plt.rcParams['figure.figsize'] = [15, 10]\n",
    "\n",
    "# plotting\n",
    "t_index = np.linspace(0, duration, num_step)\n",
    "fig, ax = plt.subplots()\n",
    "# for i in range(output.shape[1]):\n",
    "for i in parameter_mask:\n",
    "    label = species[i]\n",
    "    ax.plot(t_index, output[:, i], label = '$'+label+'$')\n",
    "# Shrink current axis's height by 10% on the bottom\n",
    "box = ax.get_position()\n",
    "ax.set_position([box.x0, box.y0 + box.height * 0.1,\n",
    "                 box.width, box.height * 0.95])\n",
    "# Put a legend below current axis\n",
    "ax.legend(loc='upper center', bbox_to_anchor=(0.5, -0.05),\n",
    "          fancybox=True, shadow=True, ncol=10)\n",
    "plt.xlabel('Time')\n",
    "plt.ylabel('Concentration')\n",
    "plt.grid()\n",
    "plt.show()"
   ]
  },
  {
   "cell_type": "code",
   "execution_count": 16,
   "metadata": {},
   "outputs": [
    {
     "name": "stdout",
     "output_type": "stream",
     "text": [
      "Observation_sequence:\n",
      " ['2', '1', '2', '2', '1', '2', '2', '1', '2', '1', '1', '1', '2', '1', '1', '1', '2', '1', '1', '2', '2', '2', '2', '1', '1', '2', '2', '1', '1', '1', '2', '1', '2', '2', '2', '2', '1', '1', '1', '2', '2', '2', '1', '2', '1', '2', '1', '1', '2', '2', '2', '2', '1', '1', '1', '1', '2', '1', '2', '1', '2', '1', '1', '1', '1', '1', '1', '2', '1', '2', '2', '1', '2', '1', '2', '1', '2', '1', '2', '1', '2', '1', '1', '2', '2', '2', '2', '1', '2', '2', '1', '1', '1', '1', '1', '1', '2', '2', '2', '1'] \n",
      "\n",
      "Start_probability:\n",
      " [0.5 0.5] \n",
      "\n",
      "Transition_Probability:\n",
      " [[0.5 0.5]\n",
      " [0.5 0.5]] \n",
      "\n",
      "Emission_Probability:\n",
      " [[0.5 0.5]\n",
      " [0.5 0.5]] \n",
      "\n",
      "==================================\n",
      "\n",
      "After Training with CRN:\n",
      "\n",
      "Transition_Probability:\n",
      " [[0.5 0.5]\n",
      " [0.5 0.5]] \n",
      "\n",
      "Emission_Probability:\n",
      " [[0.52 0.48]\n",
      " [0.52 0.48]] \n",
      "\n"
     ]
    }
   ],
   "source": [
    "HMM = read_model(model_file,\"HMM/\")\n",
    "n_states,n_observations = list(map(len,HMM[:2]))\n",
    "print(\"Observation_sequence:\\n\",observations,\"\\n\")\n",
    "print(\"Start_probability:\\n\",output[0][start_mask],\"\\n\")\n",
    "print(\"Transition_Probability:\\n\",output[0][theta_mask].reshape(n_states,n_states),\"\\n\")\n",
    "print(\"Emission_Probability:\\n\",output[0][psi_mask].reshape(n_states,n_observations),\"\\n\")\n",
    "print(\"==================================\\n\")\n",
    "print(\"After Training with CRN:\\n\")\n",
    "print(\"Transition_Probability:\\n\",output[-1][theta_mask].reshape(n_states,n_states),\"\\n\")\n",
    "print(\"Emission_Probability:\\n\",output[-1][psi_mask].reshape(n_states,n_observations),\"\\n\")"
   ]
  },
  {
   "cell_type": "markdown",
   "metadata": {},
   "source": [
    "# Example-1b"
   ]
  },
  {
   "cell_type": "code",
   "execution_count": 17,
   "metadata": {},
   "outputs": [],
   "source": [
    "model_file = \"../Models/Example-1b.txt\""
   ]
  },
  {
   "cell_type": "markdown",
   "metadata": {},
   "source": [
    "### Baum-Welch"
   ]
  },
  {
   "cell_type": "code",
   "execution_count": 18,
   "metadata": {},
   "outputs": [
    {
     "name": "stdout",
     "output_type": "stream",
     "text": [
      "Observation_sequence:\n",
      " ['2', '1', '2', '2', '1', '2', '2', '1', '2', '1', '1', '1', '2', '1', '1', '1', '2', '1', '1', '2', '2', '2', '2', '1', '1', '2', '2', '1', '1', '1', '2', '1', '2', '2', '2', '2', '1', '1', '1', '2', '2', '2', '1', '2', '1', '2', '1', '1', '2', '2', '2', '2', '1', '1', '1', '1', '2', '1', '2', '1', '2', '1', '1', '1', '1', '1', '1', '2', '1', '2', '2', '1', '2', '1', '2', '1', '2', '1', '2', '1', '2', '1', '1', '2', '2', '2', '2', '1', '2', '2', '1', '1', '1', '1', '1', '1', '2', '2', '2', '1'] \n",
      "\n",
      "Start_probability:\n",
      " [0.5 0.5] \n",
      "\n",
      "Transition_Probability:\n",
      " [[0.774 0.226]\n",
      " [0.427 0.573]] \n",
      "\n",
      "Emission_Probability:\n",
      " [[0.916 0.084]\n",
      " [0.51  0.49 ]] \n",
      "\n",
      "==================================\n",
      "\n",
      "After Training with Baum-Welch algorithm:\n",
      "Start probability:\n",
      " [0.5 0.5] \n",
      "\n",
      "Transition probability:\n",
      " [[0.09095231 0.90904769]\n",
      " [0.99193496 0.00806504]] \n",
      "\n",
      "Emission probability:\n",
      " [[0.66093495 0.33906505]\n",
      " [0.36642667 0.63357333]] \n",
      "\n"
     ]
    }
   ],
   "source": [
    "BW(model_file)"
   ]
  },
  {
   "cell_type": "markdown",
   "metadata": {},
   "source": [
    "### Chemical-Baum-Welch"
   ]
  },
  {
   "cell_type": "code",
   "execution_count": 19,
   "metadata": {},
   "outputs": [],
   "source": [
    "# generating reaction network\n",
    "observations, reaction_system = translate(model_file,False,False)\n",
    "species = np.array(reaction_system[0])\n",
    "reactants = np.array(reaction_system[1][0])\n",
    "products = np.array(reaction_system[1][1])\n",
    "rates = np.array(reaction_system[1][2])\n",
    "initial = np.array(reaction_system[2])"
   ]
  },
  {
   "cell_type": "code",
   "execution_count": 20,
   "metadata": {},
   "outputs": [],
   "source": [
    "# simulation parameters\n",
    "duration = 5\n",
    "num_step = 1000"
   ]
  },
  {
   "cell_type": "code",
   "execution_count": 21,
   "metadata": {},
   "outputs": [],
   "source": [
    "# simulating\n",
    "output = DMAK(reactants,products,rates,initial,duration,num_step,True,False,species)\n",
    "\n",
    "# saving simulation results\n",
    "output_file = model_file.split('.')[2][1:]+'_output.npy'\n",
    "with open(output_file, 'wb') as f:\n",
    "    np.save(output_file,output)"
   ]
  },
  {
   "cell_type": "code",
   "execution_count": 22,
   "metadata": {},
   "outputs": [],
   "source": [
    "# load from saved simulation results\n",
    "output_file = model_file.split('.')[2][1:]+'_output.npy'\n",
    "output = np.load(output_file)"
   ]
  },
  {
   "cell_type": "code",
   "execution_count": 23,
   "metadata": {},
   "outputs": [],
   "source": [
    "# define masks for only parameter species\n",
    "theta_mask=np.flatnonzero(np.core.defchararray.find(species,\"theta\")!=-1)\n",
    "theta_star_index=np.flatnonzero(np.core.defchararray.find(species[theta_mask],\"*\")!=-1)\n",
    "unselect = np.in1d(range(theta_mask.shape[0]), theta_star_index)\n",
    "start_mask=theta_mask[unselect]\n",
    "theta_mask=theta_mask[~unselect]\n",
    "psi_mask=np.flatnonzero(np.core.defchararray.find(species,\"psi\")!=-1)\n",
    "parameter_mask=np.concatenate([theta_mask,psi_mask])"
   ]
  },
  {
   "cell_type": "code",
   "execution_count": 24,
   "metadata": {},
   "outputs": [
    {
     "data": {
      "image/png": "[encoded data removed]",
      "text/plain": [
       "<Figure size 1080x720 with 1 Axes>"
      ]
     },
     "metadata": {
      "needs_background": "light"
     },
     "output_type": "display_data"
    }
   ],
   "source": [
    "# set plot parameters\n",
    "import matplotlib.pyplot as plt\n",
    "plt.rcParams['figure.figsize'] = [15, 10]\n",
    "\n",
    "# plotting\n",
    "t_index = np.linspace(0, duration, num_step)\n",
    "fig, ax = plt.subplots()\n",
    "# for i in range(output.shape[1]):\n",
    "for i in parameter_mask:\n",
    "    label = species[i]\n",
    "    ax.plot(t_index, output[:, i], label = '$'+label+'$')\n",
    "# Shrink current axis's height by 10% on the bottom\n",
    "box = ax.get_position()\n",
    "ax.set_position([box.x0, box.y0 + box.height * 0.1,\n",
    "                 box.width, box.height * 0.95])\n",
    "# Put a legend below current axis\n",
    "ax.legend(loc='upper center', bbox_to_anchor=(0.5, -0.05),\n",
    "          fancybox=True, shadow=True, ncol=10)\n",
    "plt.xlabel('Time')\n",
    "plt.ylabel('Concentration')\n",
    "plt.grid()\n",
    "plt.show()"
   ]
  },
  {
   "cell_type": "code",
   "execution_count": 25,
   "metadata": {},
   "outputs": [
    {
     "name": "stdout",
     "output_type": "stream",
     "text": [
      "Observation_sequence:\n",
      " ['2', '1', '2', '2', '1', '2', '2', '1', '2', '1', '1', '1', '2', '1', '1', '1', '2', '1', '1', '2', '2', '2', '2', '1', '1', '2', '2', '1', '1', '1', '2', '1', '2', '2', '2', '2', '1', '1', '1', '2', '2', '2', '1', '2', '1', '2', '1', '1', '2', '2', '2', '2', '1', '1', '1', '1', '2', '1', '2', '1', '2', '1', '1', '1', '1', '1', '1', '2', '1', '2', '2', '1', '2', '1', '2', '1', '2', '1', '2', '1', '2', '1', '1', '2', '2', '2', '2', '1', '2', '2', '1', '1', '1', '1', '1', '1', '2', '2', '2', '1'] \n",
      "\n",
      "Start_probability:\n",
      " [0.5 0.5] \n",
      "\n",
      "Transition_Probability:\n",
      " [[0.774 0.226]\n",
      " [0.427 0.573]] \n",
      "\n",
      "Emission_Probability:\n",
      " [[0.916 0.084]\n",
      " [0.51  0.49 ]] \n",
      "\n",
      "==================================\n",
      "\n",
      "After Training with CRN:\n",
      "\n",
      "Transition_Probability:\n",
      " [[0.50037793 0.49962207]\n",
      " [0.50000794 0.49999206]] \n",
      "\n",
      "Emission_Probability:\n",
      " [[0.52109785 0.47890215]\n",
      " [0.51890074 0.48109926]] \n",
      "\n"
     ]
    }
   ],
   "source": [
    "HMM = read_model(model_file,\"HMM/\")\n",
    "n_states,n_observations = list(map(len,HMM[:2]))\n",
    "print(\"Observation_sequence:\\n\",observations,\"\\n\")\n",
    "print(\"Start_probability:\\n\",output[0][start_mask],\"\\n\")\n",
    "print(\"Transition_Probability:\\n\",output[0][theta_mask].reshape(n_states,n_states),\"\\n\")\n",
    "print(\"Emission_Probability:\\n\",output[0][psi_mask].reshape(n_states,n_observations),\"\\n\")\n",
    "print(\"==================================\\n\")\n",
    "print(\"After Training with CRN:\\n\")\n",
    "print(\"Transition_Probability:\\n\",output[-1][theta_mask].reshape(n_states,n_states),\"\\n\")\n",
    "print(\"Emission_Probability:\\n\",output[-1][psi_mask].reshape(n_states,n_observations),\"\\n\")"
   ]
  },
  {
   "cell_type": "markdown",
   "metadata": {},
   "source": [
    "# Example-2"
   ]
  },
  {
   "cell_type": "code",
   "execution_count": 26,
   "metadata": {},
   "outputs": [],
   "source": [
    "model_file = \"../Models/Example-2.txt\""
   ]
  },
  {
   "cell_type": "markdown",
   "metadata": {},
   "source": [
    "### Baum-Welch"
   ]
  },
  {
   "cell_type": "code",
   "execution_count": 27,
   "metadata": {},
   "outputs": [
    {
     "name": "stdout",
     "output_type": "stream",
     "text": [
      "Observation_sequence:\n",
      " ['2', '1', '2', '1', '2'] \n",
      "\n",
      "Start_probability:\n",
      " [0.6 0.4] \n",
      "\n",
      "Transition_Probability:\n",
      " [[0.7 0.3]\n",
      " [0.4 0.6]] \n",
      "\n",
      "Emission_Probability:\n",
      " [[0.6 0.4]\n",
      " [0.6 0.4]] \n",
      "\n",
      "==================================\n",
      "\n",
      "After Training with Baum-Welch algorithm:\n",
      "Start probability:\n",
      " [0.6 0.4] \n",
      "\n",
      "Transition probability:\n",
      " [[1.36326504e-216 1.00000000e+000]\n",
      " [1.00000000e+000 3.42508790e-053]] \n",
      "\n",
      "Emission probability:\n",
      " [[2.48850902e-159 1.00000000e+000]\n",
      " [1.00000000e+000 3.42508790e-053]] \n",
      "\n"
     ]
    }
   ],
   "source": [
    "BW(model_file)"
   ]
  },
  {
   "cell_type": "markdown",
   "metadata": {},
   "source": [
    "### Chemical-Baum-Welch"
   ]
  },
  {
   "cell_type": "code",
   "execution_count": 28,
   "metadata": {},
   "outputs": [],
   "source": [
    "# generating reaction network\n",
    "observations, reaction_system = translate(model_file,False,False)\n",
    "species = np.array(reaction_system[0])\n",
    "reactants = np.array(reaction_system[1][0])\n",
    "products = np.array(reaction_system[1][1])\n",
    "rates = np.array(reaction_system[1][2])\n",
    "initial = np.array(reaction_system[2])"
   ]
  },
  {
   "cell_type": "code",
   "execution_count": 29,
   "metadata": {},
   "outputs": [],
   "source": [
    "# simulation parameters\n",
    "duration = 200\n",
    "num_step = 1000"
   ]
  },
  {
   "cell_type": "code",
   "execution_count": 30,
   "metadata": {},
   "outputs": [],
   "source": [
    "# simulating\n",
    "output = DMAK(reactants,products,rates,initial,duration,num_step,True,False,species)\n",
    "\n",
    "# saving simulation results\n",
    "output_file = model_file.split('.')[2][1:]+'_output.npy'\n",
    "with open(output_file, 'wb') as f:\n",
    "    np.save(output_file,output)"
   ]
  },
  {
   "cell_type": "code",
   "execution_count": 31,
   "metadata": {},
   "outputs": [],
   "source": [
    "# load from saved simulation results\n",
    "output_file = model_file.split('.')[2][1:]+'_output.npy'\n",
    "output = np.load(output_file)"
   ]
  },
  {
   "cell_type": "code",
   "execution_count": 32,
   "metadata": {},
   "outputs": [],
   "source": [
    "# define masks for only parameter species\n",
    "theta_mask=np.flatnonzero(np.core.defchararray.find(species,\"theta\")!=-1)\n",
    "theta_star_index=np.flatnonzero(np.core.defchararray.find(species[theta_mask],\"*\")!=-1)\n",
    "unselect = np.in1d(range(theta_mask.shape[0]), theta_star_index)\n",
    "start_mask=theta_mask[unselect]\n",
    "theta_mask=theta_mask[~unselect]\n",
    "psi_mask=np.flatnonzero(np.core.defchararray.find(species,\"psi\")!=-1)\n",
    "parameter_mask=np.concatenate([theta_mask,psi_mask])"
   ]
  },
  {
   "cell_type": "code",
   "execution_count": 33,
   "metadata": {},
   "outputs": [
    {
     "data": {
      "image/png": "[encoded data removed]",
      "text/plain": [
       "<Figure size 1080x720 with 1 Axes>"
      ]
     },
     "metadata": {
      "needs_background": "light"
     },
     "output_type": "display_data"
    }
   ],
   "source": [
    "# set plot parameters\n",
    "import matplotlib.pyplot as plt\n",
    "plt.rcParams['figure.figsize'] = [15, 10]\n",
    "\n",
    "# plotting\n",
    "t_index = np.linspace(0, duration, num_step)\n",
    "fig, ax = plt.subplots()\n",
    "# for i in range(output.shape[1]):\n",
    "for i in parameter_mask:\n",
    "    label = species[i]\n",
    "    ax.plot(t_index, output[:, i], label = '$'+label+'$')\n",
    "# Shrink current axis's height by 10% on the bottom\n",
    "box = ax.get_position()\n",
    "ax.set_position([box.x0, box.y0 + box.height * 0.1,\n",
    "                 box.width, box.height * 0.95])\n",
    "# Put a legend below current axis\n",
    "ax.legend(loc='upper center', bbox_to_anchor=(0.5, -0.05),\n",
    "          fancybox=True, shadow=True, ncol=10)\n",
    "plt.xlabel('Time')\n",
    "plt.ylabel('Concentration')\n",
    "plt.grid()\n",
    "plt.show()"
   ]
  },
  {
   "cell_type": "code",
   "execution_count": 34,
   "metadata": {},
   "outputs": [
    {
     "name": "stdout",
     "output_type": "stream",
     "text": [
      "Observation_sequence:\n",
      " ['2', '1', '2', '1', '2'] \n",
      "\n",
      "Start_probability:\n",
      " [0.6 0.4] \n",
      "\n",
      "Transition_Probability:\n",
      " [[0.7 0.3]\n",
      " [0.4 0.6]] \n",
      "\n",
      "Emission_Probability:\n",
      " [[0.6 0.4]\n",
      " [0.6 0.4]] \n",
      "\n",
      "==================================\n",
      "\n",
      "After Training with CRN:\n",
      "\n",
      "Transition_Probability:\n",
      " [[3.65772957e-01 6.34227043e-01]\n",
      " [1.00000000e+00 1.86219812e-13]] \n",
      "\n",
      "Emission_Probability:\n",
      " [[ 1.16766743e-13  1.00000000e+00]\n",
      " [ 1.00000000e+00 -3.55367567e-15]] \n",
      "\n"
     ]
    }
   ],
   "source": [
    "HMM = read_model(model_file,\"HMM/\")\n",
    "n_states,n_observations = list(map(len,HMM[:2]))\n",
    "print(\"Observation_sequence:\\n\",observations,\"\\n\")\n",
    "print(\"Start_probability:\\n\",output[0][start_mask],\"\\n\")\n",
    "print(\"Transition_Probability:\\n\",output[0][theta_mask].reshape(n_states,n_states),\"\\n\")\n",
    "print(\"Emission_Probability:\\n\",output[0][psi_mask].reshape(n_states,n_observations),\"\\n\")\n",
    "print(\"==================================\\n\")\n",
    "print(\"After Training with CRN:\\n\")\n",
    "print(\"Transition_Probability:\\n\",output[-1][theta_mask].reshape(n_states,n_states),\"\\n\")\n",
    "print(\"Emission_Probability:\\n\",output[-1][psi_mask].reshape(n_states,n_observations),\"\\n\")"
   ]
  }
 ],
 "metadata": {
  "kernelspec": {
   "display_name": "Python 3",
   "language": "python",
   "name": "python3"
  },
  "language_info": {
   "codemirror_mode": {
    "name": "ipython",
    "version": 3
   },
   "file_extension": ".py",
   "mimetype": "text/x-python",
   "name": "python",
   "nbconvert_exporter": "python",
   "pygments_lexer": "ipython3",
   "version": "3.8.5"
  }
 },
 "nbformat": 4,
 "nbformat_minor": 4
}
