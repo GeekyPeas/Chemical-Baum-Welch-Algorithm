{
 "cells": [
  {
   "cell_type": "code",
   "execution_count": 1,
   "metadata": {},
   "outputs": [],
   "source": [
    "from matplotlib.ticker import MaxNLocator"
   ]
  },
  {
   "cell_type": "code",
   "execution_count": 2,
   "metadata": {},
   "outputs": [],
   "source": [
    "import numpy as np\n",
    "from hmmlearn import hmm\n",
    "import csv\n",
    "import matplotlib.pyplot as plt\n",
    "import sys\n",
    "from BW import *\n",
    "import sys\n",
    "sys.setrecursionlimit(1000000)\n",
    "import datetime\n",
    "from matplotlib.lines import Line2D"
   ]
  },
  {
   "cell_type": "code",
   "execution_count": 3,
   "metadata": {},
   "outputs": [],
   "source": [
    "states = [\"H1\",\"H2\"]\n",
    "n_states = len(states)\n",
    "\n",
    "observations = [\"V1\", \"V2\"]\n",
    "n_observations = len(observations)\n",
    "\n",
    "start_probability = np.array([0.6,0.4])\n",
    "\n",
    "transition_probability=np.array([[0.7, 0.3],\n",
    "       [0.4, 0.6]])\n",
    "\n",
    "emission_probability = np.array([[0.6, 0.4],\n",
    "       [0.6, 0.4]])\n",
    "model = hmm.MultinomialHMM(n_components=n_states,n_iter=1000,tol=1e-15,init_params=\" \",params=\"te\")\n",
    "model.startprob_=start_probability\n",
    "model.transmat_=transition_probability\n",
    "model.emissionprob_=emission_probability"
   ]
  },
  {
   "cell_type": "code",
   "execution_count": 4,
   "metadata": {},
   "outputs": [],
   "source": [
    "np.random.seed(77)"
   ]
  },
  {
   "cell_type": "code",
   "execution_count": 5,
   "metadata": {},
   "outputs": [],
   "source": [
    "X=np.array([[1],[0],[1],[0],[1]])"
   ]
  },
  {
   "cell_type": "code",
   "execution_count": null,
   "metadata": {},
   "outputs": [],
   "source": []
  },
  {
   "cell_type": "code",
   "execution_count": 6,
   "metadata": {},
   "outputs": [
    {
     "name": "stdout",
     "output_type": "stream",
     "text": [
      "v_1,v_0,v_1,v_0,v_1,"
     ]
    }
   ],
   "source": [
    "for i in range(len(X.T[0])):\n",
    "    print('v_'+repr(X.T[0][i]),end=',')\n",
    "    if (i+1)%25==0:\n",
    "        print(\" \\\\\\ \")"
   ]
  },
  {
   "cell_type": "code",
   "execution_count": 7,
   "metadata": {},
   "outputs": [
    {
     "data": {
      "text/plain": [
       "-3.7705234431544463"
      ]
     },
     "execution_count": 7,
     "metadata": {},
     "output_type": "execute_result"
    }
   ],
   "source": [
    "model.score(X.T.reshape(-1,1))"
   ]
  },
  {
   "cell_type": "code",
   "execution_count": 8,
   "metadata": {},
   "outputs": [],
   "source": [
    "#Starting from Uniform\n",
    "tA=np.array([[0.7,0.3],[0.4,0.6]])\n",
    "tB=np.array([[0.6,0.4],[0.6,0.4]])"
   ]
  },
  {
   "cell_type": "code",
   "execution_count": null,
   "metadata": {},
   "outputs": [],
   "source": []
  },
  {
   "cell_type": "code",
   "execution_count": null,
   "metadata": {},
   "outputs": [],
   "source": []
  },
  {
   "cell_type": "code",
   "execution_count": null,
   "metadata": {},
   "outputs": [],
   "source": []
  },
  {
   "cell_type": "code",
   "execution_count": 9,
   "metadata": {},
   "outputs": [
    {
     "data": {
      "text/plain": [
       "(array([[0.7, 0.3],\n",
       "        [0.4, 0.6]]),\n",
       " array([[0.6, 0.4],\n",
       "        [0.6, 0.4]]))"
      ]
     },
     "execution_count": 9,
     "metadata": {},
     "output_type": "execute_result"
    }
   ],
   "source": [
    "tA,tB"
   ]
  },
  {
   "cell_type": "code",
   "execution_count": 10,
   "metadata": {},
   "outputs": [],
   "source": [
    "model.transmat_=tA\n",
    "model.emissionprob_=tB"
   ]
  },
  {
   "cell_type": "code",
   "execution_count": 11,
   "metadata": {
    "scrolled": false
   },
   "outputs": [
    {
     "data": {
      "text/plain": [
       "-3.7705234431544463"
      ]
     },
     "execution_count": 11,
     "metadata": {},
     "output_type": "execute_result"
    }
   ],
   "source": [
    "model.score(X.T.reshape(-1,1))"
   ]
  },
  {
   "cell_type": "code",
   "execution_count": 12,
   "metadata": {},
   "outputs": [],
   "source": [
    "model=model.fit(X)"
   ]
  },
  {
   "cell_type": "code",
   "execution_count": 13,
   "metadata": {},
   "outputs": [
    {
     "data": {
      "text/plain": [
       "ConvergenceMonitor(\n",
       "    history=[-3.7705234431544463, -3.3649261655669416, -3.364872088275898, -3.364840449592649, -3.3648140823654917, -3.364787569058241, -3.364759063232826, -3.364727786572473, -3.3646932609033837, -3.3646550698899, -3.364612781862429, -3.3645659210429946, -3.3645139525576844, -3.3644562704391303, -3.3643921850322904, -3.3643209083376133, -3.3642415363663964, -3.3641530276063296, -3.364054176511628, -3.3639435806178053, -3.363819599431653, -3.3636803026208306, -3.3635234041523994, -3.3633461777941607, -3.363145347626407, -3.362916944652138, -3.362656116828667, -3.362356874215843, -3.362011742376445, -3.361611283896349, -3.3611434268967866, -3.360592505427726, -3.359937860240032, -3.359151752253358, -3.3581961719168802, -3.3570178200161855, -3.355539954147148, -3.3536486484740298, -3.3511686403793233, -3.3478187430465356, -3.343124696036181, -3.3362369972033425, -3.325518820279915, -3.3075241652203498, -3.2741941198064866, -3.2044573013640605, -3.0398199382149294, -2.650547565250533, -1.9655892636289323, -1.1595969423639654, -0.6184093892426076, -0.5133204662903013, -0.5108269214754211, -0.5108256237663416, -0.5108256237659907, -0.5108256237659907],\n",
       "    iter=56,\n",
       "    n_iter=1000,\n",
       "    tol=1e-15,\n",
       "    verbose=False,\n",
       ")"
      ]
     },
     "execution_count": 13,
     "metadata": {},
     "output_type": "execute_result"
    }
   ],
   "source": [
    "model.monitor_"
   ]
  },
  {
   "cell_type": "code",
   "execution_count": 14,
   "metadata": {},
   "outputs": [
    {
     "data": {
      "text/plain": [
       "array([[0., 1.],\n",
       "       [1., 0.]])"
      ]
     },
     "execution_count": 14,
     "metadata": {},
     "output_type": "execute_result"
    }
   ],
   "source": [
    "np.round(model.transmat_,3)"
   ]
  },
  {
   "cell_type": "code",
   "execution_count": 15,
   "metadata": {},
   "outputs": [
    {
     "data": {
      "text/plain": [
       "array([[0., 1.],\n",
       "       [1., 0.]])"
      ]
     },
     "execution_count": 15,
     "metadata": {},
     "output_type": "execute_result"
    }
   ],
   "source": [
    "np.round(model.emissionprob_,3)"
   ]
  },
  {
   "cell_type": "code",
   "execution_count": 16,
   "metadata": {},
   "outputs": [
    {
     "data": {
      "text/plain": [
       "True"
      ]
     },
     "execution_count": 16,
     "metadata": {},
     "output_type": "execute_result"
    }
   ],
   "source": [
    "model.monitor_.converged"
   ]
  },
  {
   "cell_type": "code",
   "execution_count": 17,
   "metadata": {},
   "outputs": [
    {
     "name": "stdout",
     "output_type": "stream",
     "text": [
      "-3.3648720882758987\n",
      "[[0.699 0.301]\n",
      " [0.399 0.601]]\n",
      "[[0.395 0.605]\n",
      " [0.407 0.593]]\n",
      "-3.3648404495926476\n"
     ]
    },
    {
     "data": {
      "image/png": "[encoded data removed]",
      "text/plain": [
       "<Figure size 432x288 with 1 Axes>"
      ]
     },
     "metadata": {
      "needs_background": "light"
     },
     "output_type": "display_data"
    },
    {
     "data": {
      "image/png": "[encoded data removed]",
      "text/plain": [
       "<Figure size 432x288 with 1 Axes>"
      ]
     },
     "metadata": {
      "needs_background": "light"
     },
     "output_type": "display_data"
    }
   ],
   "source": [
    "L1=BW(np.copy(start_probability),np.copy(tA),np.copy(tB),X,4)"
   ]
  },
  {
   "cell_type": "code",
   "execution_count": 18,
   "metadata": {},
   "outputs": [
    {
     "name": "stdout",
     "output_type": "stream",
     "text": [
      "[[0.7 0.3]\n",
      " [0.4 0.6]]\n",
      "[[0.6 0.4]\n",
      " [0.6 0.4]]\n",
      "-3.7705234431544463\n"
     ]
    },
    {
     "data": {
      "image/png": "[encoded data removed]",
      "text/plain": [
       "<Figure size 432x288 with 1 Axes>"
      ]
     },
     "metadata": {
      "needs_background": "light"
     },
     "output_type": "display_data"
    },
    {
     "data": {
      "image/png": "[encoded data removed]",
      "text/plain": [
       "<Figure size 432x288 with 1 Axes>"
      ]
     },
     "metadata": {
      "needs_background": "light"
     },
     "output_type": "display_data"
    }
   ],
   "source": [
    "L1=BWlib(np.copy(start_probability),np.copy(tA),np.copy(tB),X,3)"
   ]
  },
  {
   "cell_type": "code",
   "execution_count": 19,
   "metadata": {},
   "outputs": [
    {
     "data": {
      "text/plain": [
       "array([[0., 1.],\n",
       "       [1., 0.]])"
      ]
     },
     "execution_count": 19,
     "metadata": {},
     "output_type": "execute_result"
    }
   ],
   "source": [
    "np.round(model.transmat_,3)"
   ]
  },
  {
   "cell_type": "code",
   "execution_count": 20,
   "metadata": {},
   "outputs": [
    {
     "data": {
      "text/plain": [
       "array([[0., 1.],\n",
       "       [1., 0.]])"
      ]
     },
     "execution_count": 20,
     "metadata": {},
     "output_type": "execute_result"
    }
   ],
   "source": [
    "np.round(model.emissionprob_,3)"
   ]
  },
  {
   "cell_type": "code",
   "execution_count": 21,
   "metadata": {},
   "outputs": [
    {
     "data": {
      "text/plain": [
       "array([[0.7, 0.3],\n",
       "       [0.4, 0.6]])"
      ]
     },
     "execution_count": 21,
     "metadata": {},
     "output_type": "execute_result"
    }
   ],
   "source": [
    "transition_probability"
   ]
  },
  {
   "cell_type": "code",
   "execution_count": 30,
   "metadata": {},
   "outputs": [],
   "source": [
    "from crnsimulator import ReactionGraph\n",
    "from IPython.display import Image\n",
    "import numpy as np\n",
    "from HMMCRN import *\n",
    "import crnsimulator"
   ]
  },
  {
   "cell_type": "code",
   "execution_count": 31,
   "metadata": {},
   "outputs": [],
   "source": [
    "R=HMMCRN(['H1','H2'],['V1','V2'])\n",
    "ob=X\n",
    "R.Ob=ob\n",
    "Tr=R.EM()\n",
    "RG=ReactionGraph(Tr)"
   ]
  },
  {
   "cell_type": "code",
   "execution_count": 29,
   "metadata": {},
   "outputs": [
    {
     "name": "stdout",
     "output_type": "stream",
     "text": [
      "Name: crnsimulator\n",
      "Version: 0.8\n",
      "Summary: Simulate CRNs using ODEs.\n",
      "Home-page: https://github.com/bad-ants-fleet/crnsimulator\n",
      "Author: Stefan Badelt\n",
      "Author-email: badelt@caltech.edu\n",
      "License: MIT\n",
      "Location: /home/geek/anaconda3/lib/python3.8/site-packages\n",
      "Requires: scipy, sympy, matplotlib, seaborn, networkx, pyparsing, numpy\n",
      "Required-by: \n",
      "Note: you may need to restart the kernel to use updated packages.\n"
     ]
    }
   ],
   "source": [
    "pip show crnsimulator"
   ]
  },
  {
   "cell_type": "code",
   "execution_count": 32,
   "metadata": {},
   "outputs": [
    {
     "name": "stdout",
     "output_type": "stream",
     "text": [
      "CPU times: user 958 ms, sys: 1.19 ms, total: 959 ms\n",
      "Wall time: 961 ms\n"
     ]
    }
   ],
   "source": [
    "%%time\n",
    "filename,odename=RG.write_ODE_lib(filename='1-100-AB.py')"
   ]
  },
  {
   "cell_type": "code",
   "execution_count": 33,
   "metadata": {},
   "outputs": [],
   "source": [
    "theta0=np.array([0.6,0.4])\n",
    "n=2\n",
    "m=2\n",
    "l=len(ob)\n",
    "I=BW_init(theta0,tA,tB,X.T[0])\n",
    "#I=uni_init(n,m,X.T[0])\n",
    "start=init_simulator(n,m,l,I,'1-100-AB.py')"
   ]
  },
  {
   "cell_type": "code",
   "execution_count": null,
   "metadata": {
    "scrolled": true
   },
   "outputs": [],
   "source": []
  },
  {
   "cell_type": "code",
   "execution_count": 27,
   "metadata": {},
   "outputs": [
    {
     "data": {
      "text/plain": [
       "array([[1],\n",
       "       [0],\n",
       "       [1],\n",
       "       [0],\n",
       "       [1]])"
      ]
     },
     "execution_count": 27,
     "metadata": {},
     "output_type": "execute_result"
    }
   ],
   "source": [
    "X"
   ]
  },
  {
   "cell_type": "code",
   "execution_count": 34,
   "metadata": {},
   "outputs": [
    {
     "name": "stdout",
     "output_type": "stream",
     "text": [
      "WARNING - Specify a vector of initial concentrations: e.g. --p0 1=0.1 2=0.005 3=1e-6 (see --help)\r\n",
      "Initial concentrations can be overwritten by --p0 argument\r\n"
     ]
    }
   ],
   "source": [
    "!python 1-100-AB.py --a 1e-3 --r 1e-3 --t8 15500 --t-lin 1000 --nxy>100.dat"
   ]
  },
  {
   "cell_type": "code",
   "execution_count": 35,
   "metadata": {
    "scrolled": true
   },
   "outputs": [
    {
     "ename": "ValueError",
     "evalue": "could not convert string to float: 'A1_1'",
     "output_type": "error",
     "traceback": [
      "\u001b[0;31m---------------------------------------------------------------------------\u001b[0m",
      "\u001b[0;31mValueError\u001b[0m                                Traceback (most recent call last)",
      "\u001b[0;32m<ipython-input-35-b07fdbf093f8>\u001b[0m in \u001b[0;36m<module>\u001b[0;34m\u001b[0m\n\u001b[1;32m      3\u001b[0m \u001b[0mY1\u001b[0m\u001b[0;34m=\u001b[0m\u001b[0mInit\u001b[0m\u001b[0;34m[\u001b[0m\u001b[0;36m1\u001b[0m\u001b[0;34m]\u001b[0m\u001b[0;34m.\u001b[0m\u001b[0msplit\u001b[0m\u001b[0;34m(\u001b[0m\u001b[0;34m)\u001b[0m\u001b[0;34m[\u001b[0m\u001b[0;36m1\u001b[0m\u001b[0;34m:\u001b[0m\u001b[0;34m]\u001b[0m\u001b[0;34m\u001b[0m\u001b[0;34m\u001b[0m\u001b[0m\n\u001b[1;32m      4\u001b[0m \u001b[0mY2\u001b[0m\u001b[0;34m=\u001b[0m\u001b[0mFinal\u001b[0m\u001b[0;34m[\u001b[0m\u001b[0;36m0\u001b[0m\u001b[0;34m]\u001b[0m\u001b[0;34m.\u001b[0m\u001b[0msplit\u001b[0m\u001b[0;34m(\u001b[0m\u001b[0;34m)\u001b[0m\u001b[0;34m[\u001b[0m\u001b[0;36m1\u001b[0m\u001b[0;34m:\u001b[0m\u001b[0;34m]\u001b[0m\u001b[0;34m\u001b[0m\u001b[0;34m\u001b[0m\u001b[0m\n\u001b[0;32m----> 5\u001b[0;31m \u001b[0mprint_conc\u001b[0m\u001b[0;34m(\u001b[0m\u001b[0mstart\u001b[0m\u001b[0;34m,\u001b[0m\u001b[0mY1\u001b[0m\u001b[0;34m,\u001b[0m\u001b[0mY2\u001b[0m\u001b[0;34m)\u001b[0m\u001b[0;34m\u001b[0m\u001b[0;34m\u001b[0m\u001b[0m\n\u001b[0m\u001b[1;32m      6\u001b[0m \u001b[0mget_ipython\u001b[0m\u001b[0;34m(\u001b[0m\u001b[0;34m)\u001b[0m\u001b[0;34m.\u001b[0m\u001b[0msystem\u001b[0m\u001b[0;34m(\u001b[0m\u001b[0;34m\"sed '1d;$d' 100.dat>100.csv\"\u001b[0m\u001b[0;34m)\u001b[0m\u001b[0;34m\u001b[0m\u001b[0;34m\u001b[0m\u001b[0m\n\u001b[1;32m      7\u001b[0m \u001b[0mt1\u001b[0m\u001b[0;34m,\u001b[0m\u001b[0mc1L\u001b[0m\u001b[0;34m,\u001b[0m\u001b[0mc1T01\u001b[0m\u001b[0;34m,\u001b[0m\u001b[0mc1T02\u001b[0m\u001b[0;34m,\u001b[0m\u001b[0mc1T11\u001b[0m\u001b[0;34m,\u001b[0m\u001b[0mc1T12\u001b[0m\u001b[0;34m,\u001b[0m\u001b[0mc1T21\u001b[0m\u001b[0;34m,\u001b[0m\u001b[0mc1T22\u001b[0m\u001b[0;34m,\u001b[0m\u001b[0mc1T1_1\u001b[0m\u001b[0;34m,\u001b[0m\u001b[0mc1T1_2\u001b[0m\u001b[0;34m,\u001b[0m\u001b[0mc1T2_1\u001b[0m\u001b[0;34m,\u001b[0m\u001b[0mc1T2_2\u001b[0m\u001b[0;34m=\u001b[0m\u001b[0mcrn_Liklihood\u001b[0m\u001b[0;34m(\u001b[0m\u001b[0;34m'100.csv'\u001b[0m\u001b[0;34m,\u001b[0m\u001b[0mstart\u001b[0m\u001b[0;34m,\u001b[0m\u001b[0mob\u001b[0m\u001b[0;34m)\u001b[0m\u001b[0;34m\u001b[0m\u001b[0;34m\u001b[0m\u001b[0m\n",
      "\u001b[0;32m~/Extra/gitlab/hmm-crn/PNAS-Python/Example1/BW.py\u001b[0m in \u001b[0;36mprint_conc\u001b[0;34m(start, Y1, Y2)\u001b[0m\n\u001b[1;32m    266\u001b[0m         \u001b[0;32mreturn\u001b[0m \u001b[0mt\u001b[0m\u001b[0;34m,\u001b[0m\u001b[0mL1\u001b[0m\u001b[0;34m,\u001b[0m\u001b[0mT01\u001b[0m\u001b[0;34m,\u001b[0m\u001b[0mT02\u001b[0m\u001b[0;34m,\u001b[0m\u001b[0mT11\u001b[0m\u001b[0;34m,\u001b[0m\u001b[0mT12\u001b[0m\u001b[0;34m,\u001b[0m\u001b[0mT21\u001b[0m\u001b[0;34m,\u001b[0m\u001b[0mT22\u001b[0m\u001b[0;34m,\u001b[0m\u001b[0mT1_1\u001b[0m\u001b[0;34m,\u001b[0m\u001b[0mT1_2\u001b[0m\u001b[0;34m,\u001b[0m\u001b[0mT2_1\u001b[0m\u001b[0;34m,\u001b[0m\u001b[0mT2_2\u001b[0m\u001b[0;34m\u001b[0m\u001b[0;34m\u001b[0m\u001b[0m\n\u001b[1;32m    267\u001b[0m \u001b[0;32mdef\u001b[0m \u001b[0mprint_conc\u001b[0m\u001b[0;34m(\u001b[0m\u001b[0mstart\u001b[0m\u001b[0;34m,\u001b[0m\u001b[0mY1\u001b[0m\u001b[0;34m,\u001b[0m\u001b[0mY2\u001b[0m\u001b[0;34m)\u001b[0m\u001b[0;34m:\u001b[0m\u001b[0;34m\u001b[0m\u001b[0;34m\u001b[0m\u001b[0m\n\u001b[0;32m--> 268\u001b[0;31m         \u001b[0mI\u001b[0m\u001b[0;34m=\u001b[0m\u001b[0mnp\u001b[0m\u001b[0;34m.\u001b[0m\u001b[0marray\u001b[0m\u001b[0;34m(\u001b[0m\u001b[0mY1\u001b[0m\u001b[0;34m)\u001b[0m\u001b[0;34m.\u001b[0m\u001b[0mastype\u001b[0m\u001b[0;34m(\u001b[0m\u001b[0mnp\u001b[0m\u001b[0;34m.\u001b[0m\u001b[0mfloat\u001b[0m\u001b[0;34m)\u001b[0m\u001b[0;34m\u001b[0m\u001b[0;34m\u001b[0m\u001b[0m\n\u001b[0m\u001b[1;32m    269\u001b[0m         \u001b[0mspt0\u001b[0m\u001b[0;34m=\u001b[0m\u001b[0mnp\u001b[0m\u001b[0;34m.\u001b[0m\u001b[0marray\u001b[0m\u001b[0;34m(\u001b[0m\u001b[0;34m[\u001b[0m\u001b[0mI\u001b[0m\u001b[0;34m[\u001b[0m\u001b[0mstart\u001b[0m\u001b[0;34m]\u001b[0m\u001b[0;34m,\u001b[0m\u001b[0mI\u001b[0m\u001b[0;34m[\u001b[0m\u001b[0mstart\u001b[0m\u001b[0;34m+\u001b[0m\u001b[0;36m1\u001b[0m\u001b[0;34m]\u001b[0m\u001b[0;34m]\u001b[0m\u001b[0;34m)\u001b[0m\u001b[0;34m\u001b[0m\u001b[0;34m\u001b[0m\u001b[0m\n\u001b[1;32m    270\u001b[0m         \u001b[0mspt\u001b[0m\u001b[0;34m=\u001b[0m\u001b[0mnp\u001b[0m\u001b[0;34m.\u001b[0m\u001b[0marray\u001b[0m\u001b[0;34m(\u001b[0m\u001b[0;34m[\u001b[0m\u001b[0;34m[\u001b[0m\u001b[0mI\u001b[0m\u001b[0;34m[\u001b[0m\u001b[0mstart\u001b[0m\u001b[0;34m+\u001b[0m\u001b[0;36m2\u001b[0m\u001b[0;34m]\u001b[0m\u001b[0;34m,\u001b[0m\u001b[0mI\u001b[0m\u001b[0;34m[\u001b[0m\u001b[0mstart\u001b[0m\u001b[0;34m+\u001b[0m\u001b[0;36m3\u001b[0m\u001b[0;34m]\u001b[0m\u001b[0;34m]\u001b[0m\u001b[0;34m,\u001b[0m\u001b[0;34m[\u001b[0m\u001b[0mI\u001b[0m\u001b[0;34m[\u001b[0m\u001b[0mstart\u001b[0m\u001b[0;34m+\u001b[0m\u001b[0;36m4\u001b[0m\u001b[0;34m]\u001b[0m\u001b[0;34m,\u001b[0m\u001b[0mI\u001b[0m\u001b[0;34m[\u001b[0m\u001b[0mstart\u001b[0m\u001b[0;34m+\u001b[0m\u001b[0;36m5\u001b[0m\u001b[0;34m]\u001b[0m\u001b[0;34m]\u001b[0m\u001b[0;34m]\u001b[0m\u001b[0;34m)\u001b[0m\u001b[0;34m\u001b[0m\u001b[0;34m\u001b[0m\u001b[0m\n",
      "\u001b[0;31mValueError\u001b[0m: could not convert string to float: 'A1_1'"
     ]
    }
   ],
   "source": [
    "Final=!tail -n 2 100.dat\n",
    "Init=!head -n 2 100.dat\n",
    "Y1=Init[1].split()[1:]\n",
    "Y2=Final[0].split()[1:]\n",
    "print_conc(start,Y1,Y2)\n",
    "!sed '1d;$d' 100.dat>100.csv\n",
    "t1,c1L,c1T01,c1T02,c1T11,c1T12,c1T21,c1T22,c1T1_1,c1T1_2,c1T2_1,c1T2_2=crn_Liklihood('100.csv',start,ob)"
   ]
  },
  {
   "cell_type": "code",
   "execution_count": 30,
   "metadata": {},
   "outputs": [],
   "source": [
    "#Image(filename='o100.png')\n",
    "import matplotlib\n",
    "matplotlib.rcParams['axes.unicode_minus'] = False"
   ]
  },
  {
   "cell_type": "code",
   "execution_count": null,
   "metadata": {},
   "outputs": [],
   "source": [
    "#Plotting BW and CRN Likelihood Trajectories\n",
    "fig, ax1 = plt.subplots()\n",
    "#ax1.set_facecolor('white')\n",
    "ax1.grid(True)\n",
    "ax1.set_ylabel(r'Log Likelihood of $V_1$')\n",
    "ax1.plot(np.linspace(0,2,3),L1, label=r'Baum-Welch Algorithm')\n",
    "ax1.set_xlabel('Iteration')\n",
    "ax1.xaxis.set_major_locator(MaxNLocator(integer=True))\n",
    "fig.tight_layout()\n",
    "ax1.legend()\n",
    "#ax1.set_rasterized(True)\n",
    "#plt.savefig('/home/abhinav/GitLab/hmm-crn/PNAS/Example1/PLOTS/1-100uni_initBW.pdf', format='pdf', dpi=1000)\n",
    "plt.show()"
   ]
  },
  {
   "cell_type": "code",
   "execution_count": null,
   "metadata": {},
   "outputs": [],
   "source": [
    "#Plotting BW and CRN Likelihood Trajectories\n",
    "fig, ax1 = plt.subplots()\n",
    "#ax1.set_facecolor('white')\n",
    "ax1.grid(True)\n",
    "ax1.set_ylabel(r'Log Likelihood of $V_1$')\n",
    "ax1.plot(t1[:10],c1L[:10], label=r'Net3')\n",
    "ax1.set_xlabel('Time')\n",
    "fig.tight_layout()\n",
    "ax1.legend(loc='lower right')\n",
    "#ax1.set_rasterized(True)\n",
    "#plt.savefig('/home/abhinav/GitLab/hmm-crn/PNAS/Example1/PLOTS/1-100uni_initNet3.pdf', format='pdf', dpi=1000)\n",
    "plt.show()"
   ]
  },
  {
   "cell_type": "code",
   "execution_count": null,
   "metadata": {},
   "outputs": [],
   "source": [
    "#Plotting BW and CRN Likelihood Trajectories\n",
    "fig, ax1 = plt.subplots()\n",
    "ax2 = ax1.twiny()\n",
    "#ax1.set_facecolor('white')\n",
    "ax1.grid(True)\n",
    "ax2.grid(False)\n",
    "ax1.set_ylabel(r'Log Likelihood of $V_1$')\n",
    "ax1.plot(np.linspace(0,2,3),L1, label=r'Baum-Welch Algorithm')\n",
    "ax2.plot(t1[:10],c1L[:10],'--',linewidth=3, label=r'Net 3')\n",
    "ax1.set_xlabel('Iteration')\n",
    "ax2.set_xlabel('Time')\n",
    "ax1.xaxis.set_major_locator(MaxNLocator(integer=True))\n",
    "fig.tight_layout()\n",
    "ax1.legend(loc='best')\n",
    "ax2.legend(loc='best')\n",
    "#ax1.set_rasterized(True)\n",
    "#plt.savefig('/home/abhinav/GitLab/hmm-crn/PNAS/Example1/PLOTS/1-100uni_init-mix.pdf', format='pdf', dpi=1000)\n",
    "plt.show()"
   ]
  },
  {
   "cell_type": "code",
   "execution_count": null,
   "metadata": {},
   "outputs": [],
   "source": []
  },
  {
   "cell_type": "code",
   "execution_count": null,
   "metadata": {},
   "outputs": [],
   "source": []
  },
  {
   "cell_type": "code",
   "execution_count": null,
   "metadata": {},
   "outputs": [],
   "source": []
  },
  {
   "cell_type": "code",
   "execution_count": null,
   "metadata": {
    "scrolled": true
   },
   "outputs": [],
   "source": [
    "import numpy as np\n",
    "from hmmlearn import hmm\n",
    "hidden_states = [\"H1\",\"H2\"]\n",
    "n_hidden_states = len(hidden_states)\n",
    "\n",
    "pi = np.array([0.6,0.4]) \n",
    "theta,psi=np.array([[ 0.122,0.878],[1.,0.]]),np.array([[0. ,1.],[ 1. ,0.]])\n",
    "#theta=np.array([[0.270,0.730],[0.515,0.485]])\n",
    "#psi=np.array([[0.379, 0.621],[0.475,0.525]])\n",
    "\n",
    "model = hmm.MultinomialHMM(n_components=n_hidden_states,n_iter=1000,tol=1e-15,init_params=\" \",params=\"te\")\n",
    "model.startprob_=np.copy(pi)\n",
    "model.transmat_=np.copy(theta)\n",
    "model.emissionprob_=np.copy(psi)\n",
    "print(\"Start BW:\\n\",np.round(model.transmat_,3))\n",
    "print(np.round(model.emissionprob_,3))\n",
    "#X=np.array([[1,0,1,1,0,1,1,0,1,0,0,0,1,0,0,0,1,0,0,1,1,1,1,0,0,1,1,0,0,0,1,0,1,1,1,1,0,0,0,1,1,1,0,1,0,1,0,0,1,1,1,1,0,0,0,0,1,0,1,0,1,0,0,0,0,0,0,1,0,1,1,0,1,0,1,0,1,0,1,0,1,0,0,1,1,1,1,0,1,1,0,0,0,0,0,0,1,1,1,1]]).T\n",
    "X=np.array([[1,0,1,0,1]])\n",
    "print(model.score(X))\n",
    "\n",
    "model=model.fit(X)\n",
    "model.monitor_\n",
    "\n",
    "print(\"END BW:\\n\",np.round(model.transmat_,3))\n",
    "print(np.round(model.emissionprob_,3))\n",
    "\n",
    "print(model.score(X))"
   ]
  },
  {
   "cell_type": "code",
   "execution_count": null,
   "metadata": {},
   "outputs": [],
   "source": []
  },
  {
   "cell_type": "code",
   "execution_count": null,
   "metadata": {},
   "outputs": [],
   "source": []
  }
 ],
 "metadata": {
  "kernelspec": {
   "display_name": "Python 3",
   "language": "python",
   "name": "python3"
  },
  "language_info": {
   "codemirror_mode": {
    "name": "ipython",
    "version": 3
   },
   "file_extension": ".py",
   "mimetype": "text/x-python",
   "name": "python",
   "nbconvert_exporter": "python",
   "pygments_lexer": "ipython3",
   "version": "3.8.5"
  }
 },
 "nbformat": 4,
 "nbformat_minor": 2
}
